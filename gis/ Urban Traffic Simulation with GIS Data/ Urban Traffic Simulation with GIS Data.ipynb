{
 "cells": [
  {
   "cell_type": "code",
   "execution_count": 19,
   "id": "a08c29d7",
   "metadata": {},
   "outputs": [],
   "source": [
    "import mesa\n",
    "import mesa_geo as mg\n",
    "import geopandas as gpd\n",
    "from shapely.geometry import Point\n",
    "import random"
   ]
  },
  {
   "cell_type": "code",
   "execution_count": 20,
   "id": "d3968665",
   "metadata": {},
   "outputs": [],
   "source": [
    "# GeoSpace to hold GIS-based agents\n",
    "class TrafficGeoSpace(mg.GeoSpace):\n",
    "    def __init__(self):\n",
    "        super().__init__(crs=\"EPSG:3857\")  # Set CRS explicitly\n",
    "\n",
    "# Vehicle Agent\n",
    "class VehicleAgent(mg.GeoAgent):\n",
    "    def __init__(self, unique_id, model, geometry, crs=\"EPSG:3857\"):\n",
    "        super().__init__(unique_id, model, geometry, crs)\n",
    "        self.speed = random.uniform(10, 20)  # Speed in arbitrary units\n",
    "\n",
    "    def step(self):\n",
    "        # Example behavior: move randomly\n",
    "        new_position = self.random_move()\n",
    "        self.geometry = new_position\n",
    "\n",
    "    def random_move(self):\n",
    "        x, y = self.geometry.xy\n",
    "        x_new = x[0] + random.uniform(-0.001, 0.001)\n",
    "        y_new = y[0] + random.uniform(-0.001, 0.001)\n",
    "        return Point(x_new, y_new)\n"
   ]
  },
  {
   "cell_type": "code",
   "execution_count": 21,
   "id": "d0f86b46",
   "metadata": {},
   "outputs": [],
   "source": [
    "# Traffic Model\n",
    "class TrafficModel(mesa.Model):\n",
    "    def __init__(self, road_network_file):\n",
    "        super().__init__()  # Explicitly initialize the Model\n",
    "        self.schedule = mesa.time.RandomActivation(self)\n",
    "        self.space = TrafficGeoSpace()\n",
    "        self.load_roads(road_network_file)\n",
    "        self.create_vehicles(50)  # Number of vehicles\n",
    "        self.vehicle_positions = []  # Store vehicle positions\n",
    "\n",
    "    def load_roads(self, road_network_file):\n",
    "        roads = gpd.read_file(road_network_file)\n",
    "        for idx, road in roads.iterrows():\n",
    "            road_agent = mg.GeoAgent(idx, self, road.geometry, roads.crs)\n",
    "            self.space.add_agents(road_agent)\n",
    "\n",
    "    def create_vehicles(self, num_vehicles):\n",
    "        for i in range(num_vehicles):\n",
    "            x, y = random.uniform(-10, 10), random.uniform(-10, 10)  # Random start positions\n",
    "            vehicle = VehicleAgent(i, self, Point(x, y))\n",
    "            self.space.add_agents(vehicle)\n",
    "            self.schedule.add(vehicle)\n",
    "\n",
    "    def step(self):\n",
    "        self.schedule.step()\n",
    "        self.collect_data()  # Collect data after each step\n",
    "\n",
    "    def collect_data(self):\n",
    "        positions = [(agent.unique_id, agent.geometry.x, agent.geometry.y) for agent in self.schedule.agents if isinstance(agent, VehicleAgent)]\n",
    "        self.vehicle_positions.append(positions)\n",
    "\n",
    "# Running the Model\n",
    "road_network_file = \"roads.shp\"  # Update this path\n",
    "model = TrafficModel(road_network_file)"
   ]
  },
  {
   "cell_type": "code",
   "execution_count": 22,
   "id": "d69c9b54",
   "metadata": {},
   "outputs": [],
   "source": [
    "for i in range(100):  # Run for 100 steps\n",
    "    model.step()"
   ]
  },
  {
   "cell_type": "code",
   "execution_count": 23,
   "id": "b5ea0415",
   "metadata": {},
   "outputs": [],
   "source": [
    "import folium\n",
    "\n",
    "# Create a map centered around the initial positions of the vehicles\n",
    "map_center = [0, 0]  # Change this to your actual center coordinates if needed\n",
    "mymap = folium.Map(location=map_center, zoom_start=12)\n",
    "\n",
    "# Add vehicle positions to the map\n",
    "for step in model.vehicle_positions:\n",
    "    for unique_id, x, y in step:\n",
    "        folium.Marker(location=[y, x], popup=f'Vehicle {unique_id}').add_to(mymap)\n",
    "\n",
    "# Save the map to an HTML file\n",
    "mymap.save(\"vehicle_positions_map.html\")\n"
   ]
  },
  {
   "cell_type": "code",
   "execution_count": 24,
   "id": "d88cd52a",
   "metadata": {},
   "outputs": [
    {
     "data": {
      "image/png": "[encoded data removed]",
      "text/plain": [
       "<Figure size 640x480 with 1 Axes>"
      ]
     },
     "metadata": {},
     "output_type": "display_data"
    }
   ],
   "source": [
    "import matplotlib.pyplot as plt\n",
    "\n",
    "def plot_vehicles(model):\n",
    "    x = [agent.geometry.x for agent in model.space.agents if isinstance(agent, VehicleAgent)]\n",
    "    y = [agent.geometry.y for agent in model.space.agents if isinstance(agent, VehicleAgent)]\n",
    "    plt.scatter(x, y)\n",
    "    plt.xlabel('Longitude')\n",
    "    plt.ylabel('Latitude')\n",
    "    plt.title('Vehicle Positions')\n",
    "    plt.show()\n",
    "\n",
    "plot_vehicles(model)\n"
   ]
  }
 ],
 "metadata": {
  "kernelspec": {
   "display_name": "Python 3 (ipykernel)",
   "language": "python",
   "name": "python3"
  },
  "language_info": {
   "codemirror_mode": {
    "name": "ipython",
    "version": 3
   },
   "file_extension": ".py",
   "mimetype": "text/x-python",
   "name": "python",
   "nbconvert_exporter": "python",
   "pygments_lexer": "ipython3",
   "version": "3.11.5"
  }
 },
 "nbformat": 4,
 "nbformat_minor": 5
}
